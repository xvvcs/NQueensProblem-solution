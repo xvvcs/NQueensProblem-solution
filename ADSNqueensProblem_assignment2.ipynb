{
 "cells": [
  {
   "cell_type": "markdown",
   "id": "41647e63-ea57-4c2b-b720-38c6e9c73682",
   "metadata": {},
   "source": [
    "<center>Assignment done by Maciej Matuszewski (343464)</center>"
   ]
  },
  {
   "cell_type": "markdown",
   "id": "0498d692-022a-49dc-96ea-413dfc31631b",
   "metadata": {},
   "source": [
    "# Method that prints the board"
   ]
  },
  {
   "cell_type": "code",
   "execution_count": 237,
   "id": "e898dd5b-72ac-4765-84b3-ce352014396b",
   "metadata": {},
   "outputs": [],
   "source": [
    "def printBoard(board):\n",
    "    for row in board:\n",
    "        print([\"Q\" if x == 1 else \"#\" for x in row])  "
   ]
  },
  {
   "cell_type": "markdown",
   "id": "f36cc9d2-1af0-4814-8e1d-3e78c6b47ab5",
   "metadata": {},
   "source": [
    "#### Method reads the board (array in array) and replaces 1s into queens (represented as Q), and 0s into empty chessboard spots (represented as #)"
   ]
  },
  {
   "cell_type": "markdown",
   "id": "93ef9ef7-23ad-4d94-8dff-3766dbad40be",
   "metadata": {},
   "source": [
    "# Method checking if queen can be set at a certain spot on a chessboard"
   ]
  },
  {
   "cell_type": "code",
   "execution_count": 240,
   "id": "a482e792-9edc-4e72-9b37-2b2ed83942b8",
   "metadata": {},
   "outputs": [],
   "source": [
    "def isEmpty(board, col, row):\n",
    "    # Check if there's a queen in the same row\n",
    "    for i in range(col):\n",
    "        if board[row][i] == 1:\n",
    "            return False\n",
    "\n",
    "    # Check upper-left diagonal\n",
    "    i, j = row, col\n",
    "    while i >= 0 and j >= 0:\n",
    "        if board[i][j] == 1:\n",
    "            return False\n",
    "        i -= 1\n",
    "        j -= 1\n",
    "\n",
    "    # Check upper-right diagonal\n",
    "    i, j = row, col\n",
    "    while i >= 0 and j < len(board):\n",
    "        if board[i][j] == 1:\n",
    "            return False\n",
    "        i -= 1\n",
    "        j += 1\n",
    "\n",
    "    # Check lower-left diagonal\n",
    "    i, j = row, col\n",
    "    while i < len(board) and j >= 0:\n",
    "        if board[i][j] == 1:\n",
    "            return False\n",
    "        i += 1\n",
    "        j -= 1\n",
    "\n",
    "    # Check lower-right diagonal\n",
    "    i, j = row, col\n",
    "    while i < len(board) and j < len(board):\n",
    "        if board[i][j] == 1:\n",
    "            return False\n",
    "        i += 1\n",
    "        j += 1\n",
    "\n",
    "    return True"
   ]
  },
  {
   "cell_type": "markdown",
   "id": "ba7c3b58-fed2-45c7-835e-81d6ee5e2b1f",
   "metadata": {},
   "source": [
    "#### Method looks at the rows and columns on the chessboard. Its purpose is to find a slot, where if queen was placed, she wouldn't collide with any other queen on the chessboard. It does it by checking if row, and diagonal slots are free from queens."
   ]
  },
  {
   "cell_type": "markdown",
   "id": "c6820cda-06b3-48cb-bf47-bfca62bc9291",
   "metadata": {},
   "source": [
    "# Method solving the N-Queens problem"
   ]
  },
  {
   "cell_type": "code",
   "execution_count": 263,
   "id": "72ed41b5-c294-48e3-a00f-ae10d3321677",
   "metadata": {},
   "outputs": [],
   "source": [
    "def solveNQueensProblem(board, col):\n",
    "    if N == 1:\n",
    "        board[0][0] = 1\n",
    "        return True\n",
    "\n",
    "    if N == 2 or N == 3:\n",
    "        print(\"NOT SOLVABLE, N MUST BE N > 3\")\n",
    "        return False\n",
    "\n",
    "    # if all queens are placed, solve is finished\n",
    "    if col >= N:\n",
    "        return True\n",
    "            \n",
    "    for i in range(N):\n",
    "        if isEmpty(board, col, i):\n",
    "            board[i][col] = 1\n",
    "            if solveNQueensProblem(board, col + 1):\n",
    "                return True\n",
    "            board[i][col] = 0\n",
    "    return False"
   ]
  },
  {
   "cell_type": "markdown",
   "id": "7fcef0f4-f619-4e73-8aeb-138fde51732a",
   "metadata": {},
   "source": [
    "#### Method places queens on the board recursively, checking each column for valid queen positions by trying each row. It ensures that no queens threaten each other by using the isEmpty method, and backtracks if needed until all queens are placed or the solution is deemed unsolvable. This method is a backtracking alghoritm that finds 1 possible solution for N-queens problem."
   ]
  },
  {
   "cell_type": "markdown",
   "id": "a4b279b2-b4ab-4cbb-a8b6-d75e4e6f0a0d",
   "metadata": {},
   "source": [
    "# Testing cases to see if solution works"
   ]
  },
  {
   "cell_type": "code",
   "execution_count": 229,
   "id": "f050303a-6274-4acb-a38b-e632754eb49b",
   "metadata": {},
   "outputs": [
    {
     "name": "stdout",
     "output_type": "stream",
     "text": [
      "Test 1: 8x8 chessboard\n",
      "['Q', '#', '#', '#', '#', '#', '#', '#']\n",
      "['#', '#', '#', '#', '#', '#', 'Q', '#']\n",
      "['#', '#', '#', '#', 'Q', '#', '#', '#']\n",
      "['#', '#', '#', '#', '#', '#', '#', 'Q']\n",
      "['#', 'Q', '#', '#', '#', '#', '#', '#']\n",
      "['#', '#', '#', 'Q', '#', '#', '#', '#']\n",
      "['#', '#', '#', '#', '#', 'Q', '#', '#']\n",
      "['#', '#', 'Q', '#', '#', '#', '#', '#']\n",
      "Test 2: 6x6 chessboard\n",
      "['#', '#', '#', 'Q', '#', '#']\n",
      "['Q', '#', '#', '#', '#', '#']\n",
      "['#', '#', '#', '#', 'Q', '#']\n",
      "['#', 'Q', '#', '#', '#', '#']\n",
      "['#', '#', '#', '#', '#', 'Q']\n",
      "['#', '#', 'Q', '#', '#', '#']\n",
      "Test 3: 4x4 chessboard\n",
      "['#', '#', 'Q', '#']\n",
      "['Q', '#', '#', '#']\n",
      "['#', '#', '#', 'Q']\n",
      "['#', 'Q', '#', '#']\n"
     ]
    }
   ],
   "source": [
    "N = 8  # standard size of a chessboard 8x8\n",
    "board = [[0] * N for _ in range(N)]  # generate board of size N x N\n",
    "# Test 8x8 chessboard\n",
    "print(\"Test 1: 8x8 chessboard\")\n",
    "if solveNQueensProblem(board, 0): # start from 0 (first column)\n",
    "    printBoard(board)\n",
    "else:\n",
    "    print(\"No solution found.\")\n",
    "\n",
    "\n",
    "N = 6 # test size chessboard 6x6\n",
    "board2 = [[0] * N for _ in range(N)] # generate board of size N x N\n",
    "# Test 6x6 chessboard\n",
    "print(\"Test 2: 6x6 chessboard\")\n",
    "if solveNQueensProblem(board2, 0): # start from 0 (first column)\n",
    "    printBoard(board2)\n",
    "else:\n",
    "    print(\"No solution found.\")\n",
    "\n",
    "\n",
    "N = 4 # test size chessboard 4x4\n",
    "board3 =  [[0] * N for _ in range(N)] # generate board of size N x N\n",
    "# Test 4x4 chessboard\n",
    "print(\"Test 3: 4x4 chessboard\")\n",
    "if solveNQueensProblem(board3, 0): # start from 0 (first column)\n",
    "    printBoard(board3)\n",
    "else:\n",
    "    print(\"No solution found.\")"
   ]
  },
  {
   "cell_type": "markdown",
   "id": "2901c8fa-a2b7-423a-9a9f-e388f7fc1165",
   "metadata": {},
   "source": [
    "#### I chose to generate board as an array inside an array. I think it imitates the chessboard the best. Thanks to print method, 1s and 0s are being printed in more 'pleasible' way which looks chessboard alike. \n",
    "#### In the printed three test cases, we can see that the alghoritm works correctly"
   ]
  },
  {
   "cell_type": "code",
   "execution_count": null,
   "id": "63c8a014-f58d-4aee-82ee-da9e897ce33d",
   "metadata": {},
   "outputs": [],
   "source": []
  }
 ],
 "metadata": {
  "kernelspec": {
   "display_name": "Python 3 (ipykernel)",
   "language": "python",
   "name": "python3"
  },
  "language_info": {
   "codemirror_mode": {
    "name": "ipython",
    "version": 3
   },
   "file_extension": ".py",
   "mimetype": "text/x-python",
   "name": "python",
   "nbconvert_exporter": "python",
   "pygments_lexer": "ipython3",
   "version": "3.12.4"
  }
 },
 "nbformat": 4,
 "nbformat_minor": 5
}
